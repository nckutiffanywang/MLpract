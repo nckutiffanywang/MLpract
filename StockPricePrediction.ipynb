{
 "cells": [
  {
   "cell_type": "code",
   "execution_count": 53,
   "id": "9e68fa31-285c-4044-8c1b-0f7e1a68c6f7",
   "metadata": {},
   "outputs": [],
   "source": [
    "import yfinance as yf\n",
    "import pandas as pd\n",
    "import numpy as np"
   ]
  },
  {
   "cell_type": "code",
   "execution_count": 6,
   "id": "35dc1fd4-c42b-48ad-b6fc-7a7d69ea1e67",
   "metadata": {},
   "outputs": [],
   "source": [
    "sp500 = yf.Ticker(\"^GSPC\")"
   ]
  },
  {
   "cell_type": "code",
   "execution_count": 7,
   "id": "9340553f-7f14-454d-ac0a-8b00eb6db35b",
   "metadata": {},
   "outputs": [],
   "source": [
    "sp500 = sp500.history(period=\"max\")"
   ]
  },
  {
   "cell_type": "code",
   "execution_count": 39,
   "id": "36ae1cc3-0338-4caa-9d29-ef466b955c08",
   "metadata": {},
   "outputs": [
    {
     "data": {
      "text/plain": [
       "DatetimeIndex(['1990-01-02 00:00:00-05:00', '1990-01-03 00:00:00-05:00',\n",
       "               '1990-01-04 00:00:00-05:00', '1990-01-05 00:00:00-05:00',\n",
       "               '1990-01-08 00:00:00-05:00', '1990-01-09 00:00:00-05:00',\n",
       "               '1990-01-10 00:00:00-05:00', '1990-01-11 00:00:00-05:00',\n",
       "               '1990-01-12 00:00:00-05:00', '1990-01-15 00:00:00-05:00',\n",
       "               ...\n",
       "               '2022-05-05 00:00:00-04:00', '2022-05-06 00:00:00-04:00',\n",
       "               '2022-05-09 00:00:00-04:00', '2022-05-10 00:00:00-04:00',\n",
       "               '2022-05-11 00:00:00-04:00', '2022-05-12 00:00:00-04:00',\n",
       "               '2022-05-13 00:00:00-04:00', '2022-05-16 00:00:00-04:00',\n",
       "               '2022-05-17 00:00:00-04:00', '2022-05-18 00:00:00-04:00'],\n",
       "              dtype='datetime64[ns, America/New_York]', name='Date', length=8159, freq=None)"
      ]
     },
     "execution_count": 39,
     "metadata": {},
     "output_type": "execute_result"
    }
   ],
   "source": [
    "min_range = sp500.index >= '1990-01-01 00:00:00-05:00'\n",
    "max_range = sp500.index <= '2022-05-18 00:00:00-05:00' \n",
    "sp500 = sp500[max_range & min_range].copy()\n",
    "sp500.index"
   ]
  },
  {
   "cell_type": "code",
   "execution_count": 40,
   "id": "9fd741ce-d214-497b-8f3c-c6490e203fa1",
   "metadata": {},
   "outputs": [
    {
     "data": {
      "text/plain": [
       "<Axes: xlabel='Date'>"
      ]
     },
     "execution_count": 40,
     "metadata": {},
     "output_type": "execute_result"
    },
    {
     "data": {
      "image/png": "[encoded data removed]",
      "text/plain": [
       "<Figure size 640x480 with 1 Axes>"
      ]
     },
     "metadata": {},
     "output_type": "display_data"
    }
   ],
   "source": [
    "sp500.plot.line(y=\"Close\",use_index=True)"
   ]
  },
  {
   "cell_type": "code",
   "execution_count": 41,
   "id": "9b04aae3-8978-415b-8ea7-df0758d22b70",
   "metadata": {},
   "outputs": [
    {
     "data": {
      "text/plain": [
       "(8159, 7)"
      ]
     },
     "execution_count": 41,
     "metadata": {},
     "output_type": "execute_result"
    }
   ],
   "source": [
    "# del sp500[\"Dividends\"]\n",
    "# del sp500[\"Stock Splits\"]\n",
    "sp500.shape"
   ]
  },
  {
   "cell_type": "code",
   "execution_count": 42,
   "id": "4e1b7990-6dcd-4dda-9c32-c836f02a3ffd",
   "metadata": {},
   "outputs": [
    {
     "data": {
      "text/html": [
       "<div>\n",
       "<style scoped>\n",
       "    .dataframe tbody tr th:only-of-type {\n",
       "        vertical-align: middle;\n",
       "    }\n",
       "\n",
       "    .dataframe tbody tr th {\n",
       "        vertical-align: top;\n",
       "    }\n",
       "\n",
       "    .dataframe thead th {\n",
       "        text-align: right;\n",
       "    }\n",
       "</style>\n",
       "<table border=\"1\" class=\"dataframe\">\n",
       "  <thead>\n",
       "    <tr style=\"text-align: right;\">\n",
       "      <th></th>\n",
       "      <th>Open</th>\n",
       "      <th>High</th>\n",
       "      <th>Low</th>\n",
       "      <th>Close</th>\n",
       "      <th>Volume</th>\n",
       "      <th>Tomorrow</th>\n",
       "      <th>Target</th>\n",
       "    </tr>\n",
       "    <tr>\n",
       "      <th>Date</th>\n",
       "      <th></th>\n",
       "      <th></th>\n",
       "      <th></th>\n",
       "      <th></th>\n",
       "      <th></th>\n",
       "      <th></th>\n",
       "      <th></th>\n",
       "    </tr>\n",
       "  </thead>\n",
       "  <tbody>\n",
       "    <tr>\n",
       "      <th>1990-01-02 00:00:00-05:00</th>\n",
       "      <td>353.399994</td>\n",
       "      <td>359.690002</td>\n",
       "      <td>351.980011</td>\n",
       "      <td>359.690002</td>\n",
       "      <td>162070000</td>\n",
       "      <td>358.760010</td>\n",
       "      <td>False</td>\n",
       "    </tr>\n",
       "    <tr>\n",
       "      <th>1990-01-03 00:00:00-05:00</th>\n",
       "      <td>359.690002</td>\n",
       "      <td>360.589996</td>\n",
       "      <td>357.890015</td>\n",
       "      <td>358.760010</td>\n",
       "      <td>192330000</td>\n",
       "      <td>355.670013</td>\n",
       "      <td>False</td>\n",
       "    </tr>\n",
       "    <tr>\n",
       "      <th>1990-01-04 00:00:00-05:00</th>\n",
       "      <td>358.760010</td>\n",
       "      <td>358.760010</td>\n",
       "      <td>352.890015</td>\n",
       "      <td>355.670013</td>\n",
       "      <td>177000000</td>\n",
       "      <td>352.200012</td>\n",
       "      <td>False</td>\n",
       "    </tr>\n",
       "    <tr>\n",
       "      <th>1990-01-05 00:00:00-05:00</th>\n",
       "      <td>355.670013</td>\n",
       "      <td>355.670013</td>\n",
       "      <td>351.350006</td>\n",
       "      <td>352.200012</td>\n",
       "      <td>158530000</td>\n",
       "      <td>353.790009</td>\n",
       "      <td>True</td>\n",
       "    </tr>\n",
       "    <tr>\n",
       "      <th>1990-01-08 00:00:00-05:00</th>\n",
       "      <td>352.200012</td>\n",
       "      <td>354.239990</td>\n",
       "      <td>350.540009</td>\n",
       "      <td>353.790009</td>\n",
       "      <td>140110000</td>\n",
       "      <td>349.619995</td>\n",
       "      <td>False</td>\n",
       "    </tr>\n",
       "    <tr>\n",
       "      <th>...</th>\n",
       "      <td>...</td>\n",
       "      <td>...</td>\n",
       "      <td>...</td>\n",
       "      <td>...</td>\n",
       "      <td>...</td>\n",
       "      <td>...</td>\n",
       "      <td>...</td>\n",
       "    </tr>\n",
       "    <tr>\n",
       "      <th>2022-05-12 00:00:00-04:00</th>\n",
       "      <td>3903.949951</td>\n",
       "      <td>3964.800049</td>\n",
       "      <td>3858.870117</td>\n",
       "      <td>3930.080078</td>\n",
       "      <td>6286450000</td>\n",
       "      <td>4023.889893</td>\n",
       "      <td>True</td>\n",
       "    </tr>\n",
       "    <tr>\n",
       "      <th>2022-05-13 00:00:00-04:00</th>\n",
       "      <td>3963.899902</td>\n",
       "      <td>4038.879883</td>\n",
       "      <td>3963.899902</td>\n",
       "      <td>4023.889893</td>\n",
       "      <td>5183340000</td>\n",
       "      <td>4008.010010</td>\n",
       "      <td>False</td>\n",
       "    </tr>\n",
       "    <tr>\n",
       "      <th>2022-05-16 00:00:00-04:00</th>\n",
       "      <td>4013.020020</td>\n",
       "      <td>4046.459961</td>\n",
       "      <td>3983.989990</td>\n",
       "      <td>4008.010010</td>\n",
       "      <td>4415030000</td>\n",
       "      <td>4088.850098</td>\n",
       "      <td>True</td>\n",
       "    </tr>\n",
       "    <tr>\n",
       "      <th>2022-05-17 00:00:00-04:00</th>\n",
       "      <td>4052.000000</td>\n",
       "      <td>4090.719971</td>\n",
       "      <td>4033.929932</td>\n",
       "      <td>4088.850098</td>\n",
       "      <td>4841410000</td>\n",
       "      <td>3923.679932</td>\n",
       "      <td>False</td>\n",
       "    </tr>\n",
       "    <tr>\n",
       "      <th>2022-05-18 00:00:00-04:00</th>\n",
       "      <td>4051.979980</td>\n",
       "      <td>4051.979980</td>\n",
       "      <td>3911.909912</td>\n",
       "      <td>3923.679932</td>\n",
       "      <td>5103220000</td>\n",
       "      <td>NaN</td>\n",
       "      <td>False</td>\n",
       "    </tr>\n",
       "  </tbody>\n",
       "</table>\n",
       "<p>8159 rows × 7 columns</p>\n",
       "</div>"
      ],
      "text/plain": [
       "                                  Open         High          Low        Close  \\\n",
       "Date                                                                            \n",
       "1990-01-02 00:00:00-05:00   353.399994   359.690002   351.980011   359.690002   \n",
       "1990-01-03 00:00:00-05:00   359.690002   360.589996   357.890015   358.760010   \n",
       "1990-01-04 00:00:00-05:00   358.760010   358.760010   352.890015   355.670013   \n",
       "1990-01-05 00:00:00-05:00   355.670013   355.670013   351.350006   352.200012   \n",
       "1990-01-08 00:00:00-05:00   352.200012   354.239990   350.540009   353.790009   \n",
       "...                                ...          ...          ...          ...   \n",
       "2022-05-12 00:00:00-04:00  3903.949951  3964.800049  3858.870117  3930.080078   \n",
       "2022-05-13 00:00:00-04:00  3963.899902  4038.879883  3963.899902  4023.889893   \n",
       "2022-05-16 00:00:00-04:00  4013.020020  4046.459961  3983.989990  4008.010010   \n",
       "2022-05-17 00:00:00-04:00  4052.000000  4090.719971  4033.929932  4088.850098   \n",
       "2022-05-18 00:00:00-04:00  4051.979980  4051.979980  3911.909912  3923.679932   \n",
       "\n",
       "                               Volume     Tomorrow  Target  \n",
       "Date                                                        \n",
       "1990-01-02 00:00:00-05:00   162070000   358.760010   False  \n",
       "1990-01-03 00:00:00-05:00   192330000   355.670013   False  \n",
       "1990-01-04 00:00:00-05:00   177000000   352.200012   False  \n",
       "1990-01-05 00:00:00-05:00   158530000   353.790009    True  \n",
       "1990-01-08 00:00:00-05:00   140110000   349.619995   False  \n",
       "...                               ...          ...     ...  \n",
       "2022-05-12 00:00:00-04:00  6286450000  4023.889893    True  \n",
       "2022-05-13 00:00:00-04:00  5183340000  4008.010010   False  \n",
       "2022-05-16 00:00:00-04:00  4415030000  4088.850098    True  \n",
       "2022-05-17 00:00:00-04:00  4841410000  3923.679932   False  \n",
       "2022-05-18 00:00:00-04:00  5103220000          NaN   False  \n",
       "\n",
       "[8159 rows x 7 columns]"
      ]
     },
     "execution_count": 42,
     "metadata": {},
     "output_type": "execute_result"
    }
   ],
   "source": [
    "sp500[\"Tomorrow\"] = sp500[\"Close\"].shift(-1)\n",
    "sp500"
   ]
  },
  {
   "cell_type": "code",
   "execution_count": 43,
   "id": "bc3bf578-eef2-45b5-af71-f0e901944bff",
   "metadata": {},
   "outputs": [
    {
     "data": {
      "text/html": [
       "<div>\n",
       "<style scoped>\n",
       "    .dataframe tbody tr th:only-of-type {\n",
       "        vertical-align: middle;\n",
       "    }\n",
       "\n",
       "    .dataframe tbody tr th {\n",
       "        vertical-align: top;\n",
       "    }\n",
       "\n",
       "    .dataframe thead th {\n",
       "        text-align: right;\n",
       "    }\n",
       "</style>\n",
       "<table border=\"1\" class=\"dataframe\">\n",
       "  <thead>\n",
       "    <tr style=\"text-align: right;\">\n",
       "      <th></th>\n",
       "      <th>Open</th>\n",
       "      <th>High</th>\n",
       "      <th>Low</th>\n",
       "      <th>Close</th>\n",
       "      <th>Volume</th>\n",
       "      <th>Tomorrow</th>\n",
       "      <th>Target</th>\n",
       "    </tr>\n",
       "    <tr>\n",
       "      <th>Date</th>\n",
       "      <th></th>\n",
       "      <th></th>\n",
       "      <th></th>\n",
       "      <th></th>\n",
       "      <th></th>\n",
       "      <th></th>\n",
       "      <th></th>\n",
       "    </tr>\n",
       "  </thead>\n",
       "  <tbody>\n",
       "    <tr>\n",
       "      <th>1990-01-02 00:00:00-05:00</th>\n",
       "      <td>353.399994</td>\n",
       "      <td>359.690002</td>\n",
       "      <td>351.980011</td>\n",
       "      <td>359.690002</td>\n",
       "      <td>162070000</td>\n",
       "      <td>358.760010</td>\n",
       "      <td>False</td>\n",
       "    </tr>\n",
       "    <tr>\n",
       "      <th>1990-01-03 00:00:00-05:00</th>\n",
       "      <td>359.690002</td>\n",
       "      <td>360.589996</td>\n",
       "      <td>357.890015</td>\n",
       "      <td>358.760010</td>\n",
       "      <td>192330000</td>\n",
       "      <td>355.670013</td>\n",
       "      <td>False</td>\n",
       "    </tr>\n",
       "    <tr>\n",
       "      <th>1990-01-04 00:00:00-05:00</th>\n",
       "      <td>358.760010</td>\n",
       "      <td>358.760010</td>\n",
       "      <td>352.890015</td>\n",
       "      <td>355.670013</td>\n",
       "      <td>177000000</td>\n",
       "      <td>352.200012</td>\n",
       "      <td>False</td>\n",
       "    </tr>\n",
       "    <tr>\n",
       "      <th>1990-01-05 00:00:00-05:00</th>\n",
       "      <td>355.670013</td>\n",
       "      <td>355.670013</td>\n",
       "      <td>351.350006</td>\n",
       "      <td>352.200012</td>\n",
       "      <td>158530000</td>\n",
       "      <td>353.790009</td>\n",
       "      <td>True</td>\n",
       "    </tr>\n",
       "    <tr>\n",
       "      <th>1990-01-08 00:00:00-05:00</th>\n",
       "      <td>352.200012</td>\n",
       "      <td>354.239990</td>\n",
       "      <td>350.540009</td>\n",
       "      <td>353.790009</td>\n",
       "      <td>140110000</td>\n",
       "      <td>349.619995</td>\n",
       "      <td>False</td>\n",
       "    </tr>\n",
       "    <tr>\n",
       "      <th>...</th>\n",
       "      <td>...</td>\n",
       "      <td>...</td>\n",
       "      <td>...</td>\n",
       "      <td>...</td>\n",
       "      <td>...</td>\n",
       "      <td>...</td>\n",
       "      <td>...</td>\n",
       "    </tr>\n",
       "    <tr>\n",
       "      <th>2022-05-12 00:00:00-04:00</th>\n",
       "      <td>3903.949951</td>\n",
       "      <td>3964.800049</td>\n",
       "      <td>3858.870117</td>\n",
       "      <td>3930.080078</td>\n",
       "      <td>6286450000</td>\n",
       "      <td>4023.889893</td>\n",
       "      <td>True</td>\n",
       "    </tr>\n",
       "    <tr>\n",
       "      <th>2022-05-13 00:00:00-04:00</th>\n",
       "      <td>3963.899902</td>\n",
       "      <td>4038.879883</td>\n",
       "      <td>3963.899902</td>\n",
       "      <td>4023.889893</td>\n",
       "      <td>5183340000</td>\n",
       "      <td>4008.010010</td>\n",
       "      <td>False</td>\n",
       "    </tr>\n",
       "    <tr>\n",
       "      <th>2022-05-16 00:00:00-04:00</th>\n",
       "      <td>4013.020020</td>\n",
       "      <td>4046.459961</td>\n",
       "      <td>3983.989990</td>\n",
       "      <td>4008.010010</td>\n",
       "      <td>4415030000</td>\n",
       "      <td>4088.850098</td>\n",
       "      <td>True</td>\n",
       "    </tr>\n",
       "    <tr>\n",
       "      <th>2022-05-17 00:00:00-04:00</th>\n",
       "      <td>4052.000000</td>\n",
       "      <td>4090.719971</td>\n",
       "      <td>4033.929932</td>\n",
       "      <td>4088.850098</td>\n",
       "      <td>4841410000</td>\n",
       "      <td>3923.679932</td>\n",
       "      <td>False</td>\n",
       "    </tr>\n",
       "    <tr>\n",
       "      <th>2022-05-18 00:00:00-04:00</th>\n",
       "      <td>4051.979980</td>\n",
       "      <td>4051.979980</td>\n",
       "      <td>3911.909912</td>\n",
       "      <td>3923.679932</td>\n",
       "      <td>5103220000</td>\n",
       "      <td>NaN</td>\n",
       "      <td>False</td>\n",
       "    </tr>\n",
       "  </tbody>\n",
       "</table>\n",
       "<p>8159 rows × 7 columns</p>\n",
       "</div>"
      ],
      "text/plain": [
       "                                  Open         High          Low        Close  \\\n",
       "Date                                                                            \n",
       "1990-01-02 00:00:00-05:00   353.399994   359.690002   351.980011   359.690002   \n",
       "1990-01-03 00:00:00-05:00   359.690002   360.589996   357.890015   358.760010   \n",
       "1990-01-04 00:00:00-05:00   358.760010   358.760010   352.890015   355.670013   \n",
       "1990-01-05 00:00:00-05:00   355.670013   355.670013   351.350006   352.200012   \n",
       "1990-01-08 00:00:00-05:00   352.200012   354.239990   350.540009   353.790009   \n",
       "...                                ...          ...          ...          ...   \n",
       "2022-05-12 00:00:00-04:00  3903.949951  3964.800049  3858.870117  3930.080078   \n",
       "2022-05-13 00:00:00-04:00  3963.899902  4038.879883  3963.899902  4023.889893   \n",
       "2022-05-16 00:00:00-04:00  4013.020020  4046.459961  3983.989990  4008.010010   \n",
       "2022-05-17 00:00:00-04:00  4052.000000  4090.719971  4033.929932  4088.850098   \n",
       "2022-05-18 00:00:00-04:00  4051.979980  4051.979980  3911.909912  3923.679932   \n",
       "\n",
       "                               Volume     Tomorrow  Target  \n",
       "Date                                                        \n",
       "1990-01-02 00:00:00-05:00   162070000   358.760010   False  \n",
       "1990-01-03 00:00:00-05:00   192330000   355.670013   False  \n",
       "1990-01-04 00:00:00-05:00   177000000   352.200012   False  \n",
       "1990-01-05 00:00:00-05:00   158530000   353.790009    True  \n",
       "1990-01-08 00:00:00-05:00   140110000   349.619995   False  \n",
       "...                               ...          ...     ...  \n",
       "2022-05-12 00:00:00-04:00  6286450000  4023.889893    True  \n",
       "2022-05-13 00:00:00-04:00  5183340000  4008.010010   False  \n",
       "2022-05-16 00:00:00-04:00  4415030000  4088.850098    True  \n",
       "2022-05-17 00:00:00-04:00  4841410000  3923.679932   False  \n",
       "2022-05-18 00:00:00-04:00  5103220000          NaN   False  \n",
       "\n",
       "[8159 rows x 7 columns]"
      ]
     },
     "execution_count": 43,
     "metadata": {},
     "output_type": "execute_result"
    }
   ],
   "source": [
    "sp500[\"Target\"] = (sp500[\"Tomorrow\"] > sp500[\"Close\"]) \n",
    "sp500"
   ]
  },
  {
   "cell_type": "code",
   "execution_count": 47,
   "id": "1e31ee27-aa18-41d7-b177-2afe5f5ff89d",
   "metadata": {},
   "outputs": [
    {
     "data": {
      "text/plain": [
       "RandomForestClassifier(min_samples_split=100, random_state=1)"
      ]
     },
     "execution_count": 47,
     "metadata": {},
     "output_type": "execute_result"
    }
   ],
   "source": [
    "from sklearn.ensemble import RandomForestClassifier\n",
    "\n",
    "## n_estimators & min_samples_split\n",
    "model = RandomForestClassifier(n_estimators =100, min_samples_split=100, random_state=1)\n",
    "\n",
    "## spliting method\n",
    "train = sp500.iloc[:-100] ## 0 to last-100\n",
    "test = sp500.iloc[-100:## last 100\n",
    "\n",
    "## beauty of seleting feature\n",
    "predictors = [\"Close\",\"Volume\",\"Open\",\"High\",\"Low\"]\n",
    "model.fit(train[predictors], train[\"Target\"])"
   ]
  },
  {
   "cell_type": "code",
   "execution_count": 50,
   "id": "4a40b893-ce50-446c-b439-63fa57d6fb7a",
   "metadata": {},
   "outputs": [],
   "source": [
    "from sklearn.metrics import precision_score\n",
    "\n",
    "preds = model.predict(test[predictors])"
   ]
  },
  {
   "cell_type": "code",
   "execution_count": 70,
   "id": "8adbb176-be70-43d6-bb52-fa974fb0af55",
   "metadata": {},
   "outputs": [
    {
     "data": {
      "text/plain": [
       "0.42696629213483145"
      ]
     },
     "execution_count": 70,
     "metadata": {},
     "output_type": "execute_result"
    }
   ],
   "source": [
    "preds = pd.Series(preds, index=test.index)\n",
    "precision_score(test[\"Target\"], preds)\n"
   ]
  },
  {
   "cell_type": "code",
   "execution_count": 68,
   "id": "1f014fe7-b08f-4402-9980-a02778ac14b5",
   "metadata": {},
   "outputs": [],
   "source": [
    "combined = pd.concat([test[\"Target\"], preds], axis = 1).astype('uint8') ##turn boolean into 0, 1"
   ]
  },
  {
   "cell_type": "code",
   "execution_count": 67,
   "id": "83bd052a-6753-4b00-9f94-b2e413ed1830",
   "metadata": {},
   "outputs": [
    {
     "data": {
      "text/plain": [
       "<Axes: xlabel='Date'>"
      ]
     },
     "execution_count": 67,
     "metadata": {},
     "output_type": "execute_result"
    },
    {
     "data": {
      "image/png": "[encoded data removed]",
      "text/plain": [
       "<Figure size 640x480 with 1 Axes>"
      ]
     },
     "metadata": {},
     "output_type": "display_data"
    }
   ],
   "source": [
    "combined.plot()"
   ]
  },
  {
   "cell_type": "code",
   "execution_count": 94,
   "id": "f720095d-ad5a-4e5d-b822-31524ce46cc5",
   "metadata": {},
   "outputs": [],
   "source": [
    "## Backtesting system\n",
    "\n",
    "def predict(train, test, predictors, model):\n",
    "    model.fit(train[predictors], train[\"Target\"])\n",
    "    preds = model.predict(test[predictors])\n",
    "    preds = pd.Series(preds, index=test.index, name=\"Predictions\")\n",
    "    combined = pd.concat([test[\"Target\"],preds], axis=1)\n",
    "    return combined\n"
   ]
  },
  {
   "cell_type": "code",
   "execution_count": 97,
   "id": "304ff64b-a3ba-46c2-8eda-836211c963ca",
   "metadata": {},
   "outputs": [],
   "source": [
    "def backtest(data, model, predictor, start=2500, step=250):\n",
    "    all_predictions = []\n",
    "    \n",
    "    for i in range(start, data.shape[0], step):\n",
    "        train = data.iloc[0:i].copy() ## 0 to i [0:start], [0:start+250]\n",
    "        test = data.iloc[i:(i+step)].copy() # i to i+250 [start:start+250], [start+250, start+250+250]\n",
    "        predictions = predict(train, test, predictor, model)\n",
    "        all_predictions.append(predictions)\n",
    "    return pd.concat(all_predictions)"
   ]
  },
  {
   "cell_type": "code",
   "execution_count": 107,
   "id": "2b51c0af-e39f-4f1b-86ce-5ae1465daf32",
   "metadata": {},
   "outputs": [],
   "source": [
    "predictions = backtest(sp500, model, predictors)"
   ]
  },
  {
   "cell_type": "code",
   "execution_count": 108,
   "id": "086eeb16-1d0a-44fa-bd27-425fc1af0b0f",
   "metadata": {},
   "outputs": [
    {
     "data": {
      "text/plain": [
       "Predictions\n",
       "False    3360\n",
       "True     2299\n",
       "Name: count, dtype: int64"
      ]
     },
     "execution_count": 108,
     "metadata": {},
     "output_type": "execute_result"
    }
   ],
   "source": [
    "predictions[\"Predictions\"].value_counts()"
   ]
  },
  {
   "cell_type": "code",
   "execution_count": 109,
   "id": "8fd59672-0394-439f-b775-0c31c2e881f0",
   "metadata": {},
   "outputs": [
    {
     "data": {
      "text/plain": [
       "0.535450195737277"
      ]
     },
     "execution_count": 109,
     "metadata": {},
     "output_type": "execute_result"
    }
   ],
   "source": [
    "precision_score(predictions[\"Target\"], predictions[\"Predictions\"])"
   ]
  },
  {
   "cell_type": "code",
   "execution_count": 110,
   "id": "4d7bb282-52be-48f7-9b7a-acf72571e5ab",
   "metadata": {},
   "outputs": [
    {
     "data": {
      "text/plain": [
       "Target\n",
       "True     0.536844\n",
       "False    0.463156\n",
       "Name: count, dtype: float64"
      ]
     },
     "execution_count": 110,
     "metadata": {},
     "output_type": "execute_result"
    }
   ],
   "source": [
    "predictions[\"Target\"].value_counts()/ predctions.shape[0]"
   ]
  },
  {
   "cell_type": "code",
   "execution_count": 116,
   "id": "7a42fe24-4de6-408c-8a0e-09520cca5cf8",
   "metadata": {},
   "outputs": [],
   "source": [
    "horizons = [2,5,60,250,1000] ##compare if price higer than last 2 days, last trading week, last 2 months, last year, last 4 years\n",
    "new_predictors = []\n",
    "\n",
    "\n",
    "## algorithms\n",
    "for horizon in horizons:\n",
    "    rolling_averages = sp500.rolling(horizon).mean()\n",
    "    ratio_column = f\"close_Ratio_{horizon}\"\n",
    "    sp500[ratio_column] = sp500[\"Close\"]/ rolling_averages[\"Close\"]\n",
    "    \n",
    "    trend_column = f\"Trend_{horizon}\"\n",
    "    sp500[trend_column] = sp500.shift(1).rolling(horizon).sum()[\"Target\"]\n",
    "    \n",
    "    new_predictors += [ratio_column, trend_column]"
   ]
  },
  {
   "cell_type": "code",
   "execution_count": 133,
   "id": "f164341a-8fac-456a-b700-078d9f56cb7e",
   "metadata": {},
   "outputs": [],
   "source": [
    "sp500 = sp500.dropna()"
   ]
  },
  {
   "cell_type": "code",
   "execution_count": 140,
   "id": "f43bb862-c2e6-499c-a8b7-598a6fd5af88",
   "metadata": {},
   "outputs": [],
   "source": [
    "model = RandomForestClassifier(n_estimators =200, min_samples_split=50, random_state=1)\n",
    "\n",
    "def predict(train, test, predictors, model):\n",
    "    # Print summaries of the train and test data\n",
    "#     print(\"Train data summary:\")\n",
    "#     print(train[predictors].describe())\n",
    "#     print(\"Any NaN in train:\", train[predictors].isna().any())\n",
    "#     print(\"Any Inf in train:\", np.isinf(train[predictors]).any())\n",
    "\n",
    "#     print(\"\\nTest data summary:\")\n",
    "#     print(test[predictors].describe())\n",
    "#     print(\"Any NaN in test:\", test[predictors].isna().any())\n",
    "#     print(\"Any Inf in test:\", np.isinf(test[predictors]).any())\n",
    "\n",
    "    # Fitting the model\n",
    "#     try:\n",
    "#         model.fit(train[predictors], train[\"Target\"])\n",
    "#     except ValueError as e:\n",
    "#         print(\"Error during model fitting:\", e)\n",
    "#         return None\n",
    "\n",
    "#     # Predicting\n",
    "#     try:\n",
    "#         preds = model.predict(test[predictors])[:,1]\n",
    "#     except IndexError as e:\n",
    "#         print(\"Error during prediction:\", e)\n",
    "#         return None\n",
    "    \n",
    "    model.fit(train[predictors], train[\"Target\"])\n",
    "    preds = model.predict_proba(test[predictors])[:,1]\n",
    "    preds[preds >= .6] = 1\n",
    "    preds[preds < .6] = 0\n",
    "    preds = pd.Series(preds, index=test.index, name=\"Predictions\")\n",
    "    combined = pd.concat([test[\"Target\"],preds], axis=1)\n",
    "    return combined"
   ]
  },
  {
   "cell_type": "code",
   "execution_count": 141,
   "id": "8fb56aa5-aa8b-4585-8497-1e9e9f812b29",
   "metadata": {},
   "outputs": [],
   "source": [
    "predictions = backtest(sp500, model, new_predictors)"
   ]
  },
  {
   "cell_type": "code",
   "execution_count": 142,
   "id": "e9f94eaa-b52a-4ec7-bae8-81ff6701c20b",
   "metadata": {},
   "outputs": [
    {
     "data": {
      "text/plain": [
       "Predictions\n",
       "0.0    3865\n",
       "1.0     793\n",
       "Name: count, dtype: int64"
      ]
     },
     "execution_count": 142,
     "metadata": {},
     "output_type": "execute_result"
    }
   ],
   "source": [
    "predictions[\"Predictions\"].value_counts()"
   ]
  },
  {
   "cell_type": "code",
   "execution_count": 143,
   "id": "bc5ac168-83d8-483c-8c7a-3009643816ee",
   "metadata": {},
   "outputs": [],
   "source": [
    "## overnight exchange\n",
    "## high resolution\n",
    "## https://www.youtube.com/watch?v=1O_BenficgE"
   ]
  },
  {
   "cell_type": "code",
   "execution_count": null,
   "id": "d8e555ca-4794-4909-a104-a958783175db",
   "metadata": {},
   "outputs": [],
   "source": []
  }
 ],
 "metadata": {
  "kernelspec": {
   "display_name": "Python 3 (ipykernel)",
   "language": "python",
   "name": "python3"
  },
  "language_info": {
   "codemirror_mode": {
    "name": "ipython",
    "version": 3
   },
   "file_extension": ".py",
   "mimetype": "text/x-python",
   "name": "python",
   "nbconvert_exporter": "python",
   "pygments_lexer": "ipython3",
   "version": "3.9.13"
  }
 },
 "nbformat": 4,
 "nbformat_minor": 5
}
